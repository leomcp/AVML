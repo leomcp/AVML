{
  "nbformat": 4,
  "nbformat_minor": 0,
  "metadata": {
    "colab": {
      "name": "Club_Mahindra_DataOlympics.ipynb",
      "version": "0.3.2",
      "provenance": [],
      "collapsed_sections": []
    },
    "kernelspec": {
      "name": "python3",
      "display_name": "Python 3"
    }
  },
  "cells": [
    {
      "cell_type": "markdown",
      "metadata": {
        "id": "TwM8_zHv47VU",
        "colab_type": "text"
      },
      "source": [
        "# Food And Beverages Spend Prediction in Club Mahindra Resorts"
      ]
    },
    {
      "cell_type": "code",
      "metadata": {
        "id": "ILC6sBf84D8T",
        "colab_type": "code",
        "colab": {}
      },
      "source": [
        "# Install the PyDrive wrapper & import libraries \n",
        "! pip install -U -q PyDrive \n",
        "\n",
        "from pydrive.auth import GoogleAuth \n",
        "from pydrive.drive import GoogleDrive \n",
        "from google.colab import auth \n",
        "from oauth2client.client import GoogleCredentials \n",
        "\n",
        "auth.authenticate_user()\n",
        "gauth = GoogleAuth()\n",
        "gauth.credentials = GoogleCredentials.get_application_default()\n",
        "drive = GoogleDrive(gauth)\n"
      ],
      "execution_count": 0,
      "outputs": []
    },
    {
      "cell_type": "code",
      "metadata": {
        "id": "j_C-s0ARyYI4",
        "colab_type": "code",
        "outputId": "100e2515-a3d2-4bd5-d691-493d7ac23421",
        "colab": {
          "base_uri": "https://localhost:8080/",
          "height": 51
        }
      },
      "source": [
        "download = drive.CreateFile({'id': '1k2aIbTtQk2jGsftj3GwD170DiJFBRQk3'})\n",
        "download.GetContentFile('Test_clubmahfnb.zip')\n",
        "!unzip Test_clubmahfnb.zip"
      ],
      "execution_count": 0,
      "outputs": [
        {
          "output_type": "stream",
          "text": [
            "Archive:  Test_clubmahfnb.zip\n",
            "replace test.csv? [y]es, [n]o, [A]ll, [N]one, [r]ename: n\n"
          ],
          "name": "stdout"
        }
      ]
    },
    {
      "cell_type": "code",
      "metadata": {
        "id": "1soMYLPz2je2",
        "colab_type": "code",
        "outputId": "2f9e91ce-6167-4ae6-e723-81f8bf25451a",
        "colab": {
          "base_uri": "https://localhost:8080/",
          "height": 69
        }
      },
      "source": [
        "download = drive.CreateFile({'id' : '1KvS9uSjGqrv5TT1rAo1eEUYiFK8ovErb'})\n",
        "download.GetContentFile('Train_clubmahfnb.zip')\n",
        "!unzip Train_clubmahfnb.zip\n",
        "#https://drive.google.com/file/d/1KvS9uSjGqrv5TT1rAo1eEUYiFK8ovErb/view?usp=drivesdk"
      ],
      "execution_count": 0,
      "outputs": [
        {
          "output_type": "stream",
          "text": [
            "Archive:  Train_clubmahfnb.zip\n",
            "  inflating: Data_Dictionary.xlsx    \n",
            "  inflating: train.csv               \n"
          ],
          "name": "stdout"
        }
      ]
    },
    {
      "cell_type": "code",
      "metadata": {
        "id": "SnA1E-9d5Tap",
        "colab_type": "code",
        "outputId": "ba2f9ad7-467c-43b4-de35-ea24815f524f",
        "colab": {
          "base_uri": "https://localhost:8080/",
          "height": 51
        }
      },
      "source": [
        "!ls"
      ],
      "execution_count": 0,
      "outputs": [
        {
          "output_type": "stream",
          "text": [
            "adc.json\t      sample_data\t   test.csv\t\t train.csv\n",
            "Data_Dictionary.xlsx  Test_clubmahfnb.zip  Train_clubmahfnb.zip\n"
          ],
          "name": "stdout"
        }
      ]
    },
    {
      "cell_type": "code",
      "metadata": {
        "id": "q-G7atTZ5aJc",
        "colab_type": "code",
        "colab": {}
      },
      "source": [
        ""
      ],
      "execution_count": 0,
      "outputs": []
    },
    {
      "cell_type": "markdown",
      "metadata": {
        "id": "yKx881mL5bq7",
        "colab_type": "text"
      },
      "source": [
        "# Imports "
      ]
    },
    {
      "cell_type": "code",
      "metadata": {
        "id": "FilK7OQg5jld",
        "colab_type": "code",
        "colab": {}
      },
      "source": [
        "import numpy as np\n",
        "import pandas as pd\n",
        "import matplotlib.pyplot as plt\n"
      ],
      "execution_count": 0,
      "outputs": []
    },
    {
      "cell_type": "code",
      "metadata": {
        "id": "UPwwsRPx51CX",
        "colab_type": "code",
        "outputId": "0db79058-0939-42be-e033-6acfffa54e76",
        "colab": {
          "base_uri": "https://localhost:8080/",
          "height": 412
        }
      },
      "source": [
        "train_df = pd.read_csv('train.csv')\n",
        "train_df.head(10)"
      ],
      "execution_count": 0,
      "outputs": [
        {
          "output_type": "execute_result",
          "data": {
            "text/html": [
              "<div>\n",
              "<style scoped>\n",
              "    .dataframe tbody tr th:only-of-type {\n",
              "        vertical-align: middle;\n",
              "    }\n",
              "\n",
              "    .dataframe tbody tr th {\n",
              "        vertical-align: top;\n",
              "    }\n",
              "\n",
              "    .dataframe thead th {\n",
              "        text-align: right;\n",
              "    }\n",
              "</style>\n",
              "<table border=\"1\" class=\"dataframe\">\n",
              "  <thead>\n",
              "    <tr style=\"text-align: right;\">\n",
              "      <th></th>\n",
              "      <th>reservation_id</th>\n",
              "      <th>booking_date</th>\n",
              "      <th>checkin_date</th>\n",
              "      <th>checkout_date</th>\n",
              "      <th>channel_code</th>\n",
              "      <th>main_product_code</th>\n",
              "      <th>numberofadults</th>\n",
              "      <th>numberofchildren</th>\n",
              "      <th>persontravellingid</th>\n",
              "      <th>resort_region_code</th>\n",
              "      <th>...</th>\n",
              "      <th>state_code_residence</th>\n",
              "      <th>state_code_resort</th>\n",
              "      <th>total_pax</th>\n",
              "      <th>member_age_buckets</th>\n",
              "      <th>booking_type_code</th>\n",
              "      <th>memberid</th>\n",
              "      <th>cluster_code</th>\n",
              "      <th>reservationstatusid_code</th>\n",
              "      <th>resort_id</th>\n",
              "      <th>amount_spent_per_room_night_scaled</th>\n",
              "    </tr>\n",
              "  </thead>\n",
              "  <tbody>\n",
              "    <tr>\n",
              "      <th>0</th>\n",
              "      <td>07659f3758d8aee27f5a7e2887adeacb67021cb95ada1b...</td>\n",
              "      <td>05/04/18</td>\n",
              "      <td>05/04/18</td>\n",
              "      <td>06/04/18</td>\n",
              "      <td>3</td>\n",
              "      <td>1</td>\n",
              "      <td>2</td>\n",
              "      <td>0</td>\n",
              "      <td>46</td>\n",
              "      <td>3</td>\n",
              "      <td>...</td>\n",
              "      <td>7.0</td>\n",
              "      <td>3</td>\n",
              "      <td>3</td>\n",
              "      <td>F</td>\n",
              "      <td>1</td>\n",
              "      <td>3d1539e56495b6991f0a3ef5a61ca3d03ce4fff7380e9a...</td>\n",
              "      <td>F</td>\n",
              "      <td>C</td>\n",
              "      <td>4e07408562bedb8b60ce05c1decfe3ad16b72230967de0...</td>\n",
              "      <td>7.706428</td>\n",
              "    </tr>\n",
              "    <tr>\n",
              "      <th>1</th>\n",
              "      <td>03930f033646d073462b35d411616323597715ac4fc398...</td>\n",
              "      <td>23/01/15</td>\n",
              "      <td>11/04/15</td>\n",
              "      <td>16/04/15</td>\n",
              "      <td>1</td>\n",
              "      <td>1</td>\n",
              "      <td>2</td>\n",
              "      <td>0</td>\n",
              "      <td>46</td>\n",
              "      <td>3</td>\n",
              "      <td>...</td>\n",
              "      <td>7.0</td>\n",
              "      <td>5</td>\n",
              "      <td>2</td>\n",
              "      <td>F</td>\n",
              "      <td>1</td>\n",
              "      <td>3d1539e56495b6991f0a3ef5a61ca3d03ce4fff7380e9a...</td>\n",
              "      <td>F</td>\n",
              "      <td>A</td>\n",
              "      <td>39fa9ec190eee7b6f4dff1100d6343e10918d044c75eac...</td>\n",
              "      <td>6.662563</td>\n",
              "    </tr>\n",
              "    <tr>\n",
              "      <th>2</th>\n",
              "      <td>d145a32920e6587ad95bfe299d80c0affa268220535aaf...</td>\n",
              "      <td>28/01/15</td>\n",
              "      <td>01/02/15</td>\n",
              "      <td>05/02/15</td>\n",
              "      <td>1</td>\n",
              "      <td>1</td>\n",
              "      <td>2</td>\n",
              "      <td>0</td>\n",
              "      <td>47</td>\n",
              "      <td>1</td>\n",
              "      <td>...</td>\n",
              "      <td>7.0</td>\n",
              "      <td>1</td>\n",
              "      <td>2</td>\n",
              "      <td>F</td>\n",
              "      <td>1</td>\n",
              "      <td>3d1539e56495b6991f0a3ef5a61ca3d03ce4fff7380e9a...</td>\n",
              "      <td>E</td>\n",
              "      <td>A</td>\n",
              "      <td>535fa30d7e25dd8a49f1536779734ec8286108d115da50...</td>\n",
              "      <td>7.871602</td>\n",
              "    </tr>\n",
              "    <tr>\n",
              "      <th>3</th>\n",
              "      <td>cfd77f44811ed62f25a220b53324cdbafc662a4c9e5f04...</td>\n",
              "      <td>02/05/15</td>\n",
              "      <td>11/06/15</td>\n",
              "      <td>16/06/15</td>\n",
              "      <td>1</td>\n",
              "      <td>1</td>\n",
              "      <td>2</td>\n",
              "      <td>2</td>\n",
              "      <td>46</td>\n",
              "      <td>2</td>\n",
              "      <td>...</td>\n",
              "      <td>7.0</td>\n",
              "      <td>2</td>\n",
              "      <td>2</td>\n",
              "      <td>F</td>\n",
              "      <td>1</td>\n",
              "      <td>3d1539e56495b6991f0a3ef5a61ca3d03ce4fff7380e9a...</td>\n",
              "      <td>D</td>\n",
              "      <td>A</td>\n",
              "      <td>d4735e3a265e16eee03f59718b9b5d03019c07d8b6c51f...</td>\n",
              "      <td>5.344943</td>\n",
              "    </tr>\n",
              "    <tr>\n",
              "      <th>4</th>\n",
              "      <td>937cff9e4dcfc2459620153dfc8b9962ac22bea67dfb29...</td>\n",
              "      <td>02/09/15</td>\n",
              "      <td>14/12/15</td>\n",
              "      <td>19/12/15</td>\n",
              "      <td>1</td>\n",
              "      <td>1</td>\n",
              "      <td>2</td>\n",
              "      <td>0</td>\n",
              "      <td>46</td>\n",
              "      <td>2</td>\n",
              "      <td>...</td>\n",
              "      <td>7.0</td>\n",
              "      <td>2</td>\n",
              "      <td>2</td>\n",
              "      <td>F</td>\n",
              "      <td>1</td>\n",
              "      <td>3d1539e56495b6991f0a3ef5a61ca3d03ce4fff7380e9a...</td>\n",
              "      <td>D</td>\n",
              "      <td>A</td>\n",
              "      <td>d4735e3a265e16eee03f59718b9b5d03019c07d8b6c51f...</td>\n",
              "      <td>7.059346</td>\n",
              "    </tr>\n",
              "    <tr>\n",
              "      <th>5</th>\n",
              "      <td>cc8f05558362b7589004e57044e8b558bd228fc70da5b0...</td>\n",
              "      <td>01/12/15</td>\n",
              "      <td>12/01/16</td>\n",
              "      <td>13/01/16</td>\n",
              "      <td>1</td>\n",
              "      <td>1</td>\n",
              "      <td>2</td>\n",
              "      <td>0</td>\n",
              "      <td>47</td>\n",
              "      <td>1</td>\n",
              "      <td>...</td>\n",
              "      <td>7.0</td>\n",
              "      <td>6</td>\n",
              "      <td>2</td>\n",
              "      <td>F</td>\n",
              "      <td>1</td>\n",
              "      <td>3d1539e56495b6991f0a3ef5a61ca3d03ce4fff7380e9a...</td>\n",
              "      <td>F</td>\n",
              "      <td>A</td>\n",
              "      <td>b17ef6d19c7a5b1ee83b907c595526dcb1eb06db8227d6...</td>\n",
              "      <td>8.167707</td>\n",
              "    </tr>\n",
              "    <tr>\n",
              "      <th>6</th>\n",
              "      <td>6827da5d76c626deeed81eb9f3afef635db4c17c9cbea0...</td>\n",
              "      <td>20/01/16</td>\n",
              "      <td>20/01/16</td>\n",
              "      <td>21/01/16</td>\n",
              "      <td>3</td>\n",
              "      <td>1</td>\n",
              "      <td>2</td>\n",
              "      <td>0</td>\n",
              "      <td>46</td>\n",
              "      <td>2</td>\n",
              "      <td>...</td>\n",
              "      <td>7.0</td>\n",
              "      <td>9</td>\n",
              "      <td>1</td>\n",
              "      <td>F</td>\n",
              "      <td>1</td>\n",
              "      <td>3d1539e56495b6991f0a3ef5a61ca3d03ce4fff7380e9a...</td>\n",
              "      <td>B</td>\n",
              "      <td>A</td>\n",
              "      <td>ff5a1ae012afa5d4c889c50ad427aaf545d31a4fac04ff...</td>\n",
              "      <td>6.449838</td>\n",
              "    </tr>\n",
              "    <tr>\n",
              "      <th>7</th>\n",
              "      <td>b89547398bfff6b8e99939fbeb20ddb55aa2e43ebce9e4...</td>\n",
              "      <td>22/08/16</td>\n",
              "      <td>20/10/16</td>\n",
              "      <td>25/10/16</td>\n",
              "      <td>1</td>\n",
              "      <td>1</td>\n",
              "      <td>2</td>\n",
              "      <td>2</td>\n",
              "      <td>46</td>\n",
              "      <td>1</td>\n",
              "      <td>...</td>\n",
              "      <td>7.0</td>\n",
              "      <td>6</td>\n",
              "      <td>4</td>\n",
              "      <td>F</td>\n",
              "      <td>1</td>\n",
              "      <td>3d1539e56495b6991f0a3ef5a61ca3d03ce4fff7380e9a...</td>\n",
              "      <td>F</td>\n",
              "      <td>A</td>\n",
              "      <td>b17ef6d19c7a5b1ee83b907c595526dcb1eb06db8227d6...</td>\n",
              "      <td>7.046172</td>\n",
              "    </tr>\n",
              "    <tr>\n",
              "      <th>8</th>\n",
              "      <td>3706793a0263706fe541b6e7f3b681be363f0b7e2bdc63...</td>\n",
              "      <td>10/09/16</td>\n",
              "      <td>18/09/16</td>\n",
              "      <td>24/09/16</td>\n",
              "      <td>1</td>\n",
              "      <td>1</td>\n",
              "      <td>2</td>\n",
              "      <td>0</td>\n",
              "      <td>45</td>\n",
              "      <td>2</td>\n",
              "      <td>...</td>\n",
              "      <td>7.0</td>\n",
              "      <td>10</td>\n",
              "      <td>2</td>\n",
              "      <td>F</td>\n",
              "      <td>1</td>\n",
              "      <td>3d1539e56495b6991f0a3ef5a61ca3d03ce4fff7380e9a...</td>\n",
              "      <td>B</td>\n",
              "      <td>A</td>\n",
              "      <td>0b918943df0962bc7a1824c0555a389347b4febdc7cf9d...</td>\n",
              "      <td>5.394203</td>\n",
              "    </tr>\n",
              "    <tr>\n",
              "      <th>9</th>\n",
              "      <td>1f797a715ff7788cc8162fb033ee0eca345a2209b27593...</td>\n",
              "      <td>03/08/16</td>\n",
              "      <td>21/11/16</td>\n",
              "      <td>24/11/16</td>\n",
              "      <td>1</td>\n",
              "      <td>1</td>\n",
              "      <td>2</td>\n",
              "      <td>0</td>\n",
              "      <td>45</td>\n",
              "      <td>1</td>\n",
              "      <td>...</td>\n",
              "      <td>7.0</td>\n",
              "      <td>1</td>\n",
              "      <td>2</td>\n",
              "      <td>F</td>\n",
              "      <td>1</td>\n",
              "      <td>3d1539e56495b6991f0a3ef5a61ca3d03ce4fff7380e9a...</td>\n",
              "      <td>E</td>\n",
              "      <td>A</td>\n",
              "      <td>535fa30d7e25dd8a49f1536779734ec8286108d115da50...</td>\n",
              "      <td>6.561412</td>\n",
              "    </tr>\n",
              "  </tbody>\n",
              "</table>\n",
              "<p>10 rows × 24 columns</p>\n",
              "</div>"
            ],
            "text/plain": [
              "                                      reservation_id booking_date  \\\n",
              "0  07659f3758d8aee27f5a7e2887adeacb67021cb95ada1b...     05/04/18   \n",
              "1  03930f033646d073462b35d411616323597715ac4fc398...     23/01/15   \n",
              "2  d145a32920e6587ad95bfe299d80c0affa268220535aaf...     28/01/15   \n",
              "3  cfd77f44811ed62f25a220b53324cdbafc662a4c9e5f04...     02/05/15   \n",
              "4  937cff9e4dcfc2459620153dfc8b9962ac22bea67dfb29...     02/09/15   \n",
              "5  cc8f05558362b7589004e57044e8b558bd228fc70da5b0...     01/12/15   \n",
              "6  6827da5d76c626deeed81eb9f3afef635db4c17c9cbea0...     20/01/16   \n",
              "7  b89547398bfff6b8e99939fbeb20ddb55aa2e43ebce9e4...     22/08/16   \n",
              "8  3706793a0263706fe541b6e7f3b681be363f0b7e2bdc63...     10/09/16   \n",
              "9  1f797a715ff7788cc8162fb033ee0eca345a2209b27593...     03/08/16   \n",
              "\n",
              "  checkin_date checkout_date  channel_code  main_product_code  numberofadults  \\\n",
              "0     05/04/18      06/04/18             3                  1               2   \n",
              "1     11/04/15      16/04/15             1                  1               2   \n",
              "2     01/02/15      05/02/15             1                  1               2   \n",
              "3     11/06/15      16/06/15             1                  1               2   \n",
              "4     14/12/15      19/12/15             1                  1               2   \n",
              "5     12/01/16      13/01/16             1                  1               2   \n",
              "6     20/01/16      21/01/16             3                  1               2   \n",
              "7     20/10/16      25/10/16             1                  1               2   \n",
              "8     18/09/16      24/09/16             1                  1               2   \n",
              "9     21/11/16      24/11/16             1                  1               2   \n",
              "\n",
              "   numberofchildren  persontravellingid  resort_region_code  ...  \\\n",
              "0                 0                  46                   3  ...   \n",
              "1                 0                  46                   3  ...   \n",
              "2                 0                  47                   1  ...   \n",
              "3                 2                  46                   2  ...   \n",
              "4                 0                  46                   2  ...   \n",
              "5                 0                  47                   1  ...   \n",
              "6                 0                  46                   2  ...   \n",
              "7                 2                  46                   1  ...   \n",
              "8                 0                  45                   2  ...   \n",
              "9                 0                  45                   1  ...   \n",
              "\n",
              "   state_code_residence  state_code_resort  total_pax  member_age_buckets  \\\n",
              "0                   7.0                  3          3                   F   \n",
              "1                   7.0                  5          2                   F   \n",
              "2                   7.0                  1          2                   F   \n",
              "3                   7.0                  2          2                   F   \n",
              "4                   7.0                  2          2                   F   \n",
              "5                   7.0                  6          2                   F   \n",
              "6                   7.0                  9          1                   F   \n",
              "7                   7.0                  6          4                   F   \n",
              "8                   7.0                 10          2                   F   \n",
              "9                   7.0                  1          2                   F   \n",
              "\n",
              "   booking_type_code                                           memberid  \\\n",
              "0                  1  3d1539e56495b6991f0a3ef5a61ca3d03ce4fff7380e9a...   \n",
              "1                  1  3d1539e56495b6991f0a3ef5a61ca3d03ce4fff7380e9a...   \n",
              "2                  1  3d1539e56495b6991f0a3ef5a61ca3d03ce4fff7380e9a...   \n",
              "3                  1  3d1539e56495b6991f0a3ef5a61ca3d03ce4fff7380e9a...   \n",
              "4                  1  3d1539e56495b6991f0a3ef5a61ca3d03ce4fff7380e9a...   \n",
              "5                  1  3d1539e56495b6991f0a3ef5a61ca3d03ce4fff7380e9a...   \n",
              "6                  1  3d1539e56495b6991f0a3ef5a61ca3d03ce4fff7380e9a...   \n",
              "7                  1  3d1539e56495b6991f0a3ef5a61ca3d03ce4fff7380e9a...   \n",
              "8                  1  3d1539e56495b6991f0a3ef5a61ca3d03ce4fff7380e9a...   \n",
              "9                  1  3d1539e56495b6991f0a3ef5a61ca3d03ce4fff7380e9a...   \n",
              "\n",
              "   cluster_code reservationstatusid_code  \\\n",
              "0             F                        C   \n",
              "1             F                        A   \n",
              "2             E                        A   \n",
              "3             D                        A   \n",
              "4             D                        A   \n",
              "5             F                        A   \n",
              "6             B                        A   \n",
              "7             F                        A   \n",
              "8             B                        A   \n",
              "9             E                        A   \n",
              "\n",
              "                                           resort_id  \\\n",
              "0  4e07408562bedb8b60ce05c1decfe3ad16b72230967de0...   \n",
              "1  39fa9ec190eee7b6f4dff1100d6343e10918d044c75eac...   \n",
              "2  535fa30d7e25dd8a49f1536779734ec8286108d115da50...   \n",
              "3  d4735e3a265e16eee03f59718b9b5d03019c07d8b6c51f...   \n",
              "4  d4735e3a265e16eee03f59718b9b5d03019c07d8b6c51f...   \n",
              "5  b17ef6d19c7a5b1ee83b907c595526dcb1eb06db8227d6...   \n",
              "6  ff5a1ae012afa5d4c889c50ad427aaf545d31a4fac04ff...   \n",
              "7  b17ef6d19c7a5b1ee83b907c595526dcb1eb06db8227d6...   \n",
              "8  0b918943df0962bc7a1824c0555a389347b4febdc7cf9d...   \n",
              "9  535fa30d7e25dd8a49f1536779734ec8286108d115da50...   \n",
              "\n",
              "  amount_spent_per_room_night_scaled  \n",
              "0                           7.706428  \n",
              "1                           6.662563  \n",
              "2                           7.871602  \n",
              "3                           5.344943  \n",
              "4                           7.059346  \n",
              "5                           8.167707  \n",
              "6                           6.449838  \n",
              "7                           7.046172  \n",
              "8                           5.394203  \n",
              "9                           6.561412  \n",
              "\n",
              "[10 rows x 24 columns]"
            ]
          },
          "metadata": {
            "tags": []
          },
          "execution_count": 11
        }
      ]
    },
    {
      "cell_type": "code",
      "metadata": {
        "id": "db4a-QgX-MlV",
        "colab_type": "code",
        "outputId": "a7f0b08c-f087-48ff-d43f-6eb446aaa07c",
        "colab": {
          "base_uri": "https://localhost:8080/",
          "height": 34
        }
      },
      "source": [
        "train_df.shape"
      ],
      "execution_count": 0,
      "outputs": [
        {
          "output_type": "execute_result",
          "data": {
            "text/plain": [
              "(341424, 24)"
            ]
          },
          "metadata": {
            "tags": []
          },
          "execution_count": 17
        }
      ]
    },
    {
      "cell_type": "code",
      "metadata": {
        "id": "TSqi6NJQ-_ag",
        "colab_type": "code",
        "outputId": "b454195f-145f-4320-ac99-504444d5e36c",
        "colab": {
          "base_uri": "https://localhost:8080/",
          "height": 1293
        }
      },
      "source": [
        "train_df.info()"
      ],
      "execution_count": 0,
      "outputs": [
        {
          "output_type": "stream",
          "text": [
            "<class 'pandas.core.frame.DataFrame'>\n",
            "RangeIndex: 341424 entries, 0 to 341423\n",
            "Data columns (total 24 columns):\n",
            "reservation_id                        341424 non-null object\n",
            "booking_date                          341424 non-null object\n",
            "checkin_date                          341424 non-null object\n",
            "checkout_date                         341424 non-null object\n",
            "channel_code                          341424 non-null int64\n",
            "main_product_code                     341424 non-null int64\n",
            "numberofadults                        341424 non-null int64\n",
            "numberofchildren                      341424 non-null int64\n",
            "persontravellingid                    341424 non-null int64\n",
            "resort_region_code                    341424 non-null int64\n",
            "resort_type_code                      341424 non-null int64\n",
            "room_type_booked_code                 341424 non-null int64\n",
            "roomnights                            341424 non-null int64\n",
            "season_holidayed_code                 341310 non-null float64\n",
            "state_code_residence                  336660 non-null float64\n",
            "state_code_resort                     341424 non-null int64\n",
            "total_pax                             341424 non-null int64\n",
            "member_age_buckets                    341424 non-null object\n",
            "booking_type_code                     341424 non-null int64\n",
            "memberid                              341424 non-null object\n",
            "cluster_code                          341424 non-null object\n",
            "reservationstatusid_code              341424 non-null object\n",
            "resort_id                             341424 non-null object\n",
            "amount_spent_per_room_night_scaled    341424 non-null float64\n",
            "dtypes: float64(3), int64(12), object(9)\n",
            "memory usage: 62.5+ MB\n"
          ],
          "name": "stdout"
        }
      ]
    },
    {
      "cell_type": "code",
      "metadata": {
        "id": "NkQpefZe_JSy",
        "colab_type": "code",
        "outputId": "ca9862be-a4c2-432d-91a4-b6d78163e230",
        "colab": {
          "base_uri": "https://localhost:8080/",
          "height": 1120
        }
      },
      "source": [
        "train_df.isnull().sum()"
      ],
      "execution_count": 0,
      "outputs": [
        {
          "output_type": "execute_result",
          "data": {
            "text/plain": [
              "reservation_id                           0\n",
              "booking_date                             0\n",
              "checkin_date                             0\n",
              "checkout_date                            0\n",
              "channel_code                             0\n",
              "main_product_code                        0\n",
              "numberofadults                           0\n",
              "numberofchildren                         0\n",
              "persontravellingid                       0\n",
              "resort_region_code                       0\n",
              "resort_type_code                         0\n",
              "room_type_booked_code                    0\n",
              "roomnights                               0\n",
              "season_holidayed_code                  114\n",
              "state_code_residence                  4764\n",
              "state_code_resort                        0\n",
              "total_pax                                0\n",
              "member_age_buckets                       0\n",
              "booking_type_code                        0\n",
              "memberid                                 0\n",
              "cluster_code                             0\n",
              "reservationstatusid_code                 0\n",
              "resort_id                                0\n",
              "amount_spent_per_room_night_scaled       0\n",
              "dtype: int64"
            ]
          },
          "metadata": {
            "tags": []
          },
          "execution_count": 22
        }
      ]
    },
    {
      "cell_type": "code",
      "metadata": {
        "id": "g9KkJJOD6SqD",
        "colab_type": "code",
        "outputId": "1dc53d95-8ceb-46df-a622-2c6478b15366",
        "colab": {
          "base_uri": "https://localhost:8080/",
          "height": 427
        }
      },
      "source": [
        "train_df.columns"
      ],
      "execution_count": 0,
      "outputs": [
        {
          "output_type": "execute_result",
          "data": {
            "text/plain": [
              "Index(['reservation_id', 'booking_date', 'checkin_date', 'checkout_date',\n",
              "       'channel_code', 'main_product_code', 'numberofadults',\n",
              "       'numberofchildren', 'persontravellingid', 'resort_region_code',\n",
              "       'resort_type_code', 'room_type_booked_code', 'roomnights',\n",
              "       'season_holidayed_code', 'state_code_residence', 'state_code_resort',\n",
              "       'total_pax', 'member_age_buckets', 'booking_type_code', 'memberid',\n",
              "       'cluster_code', 'reservationstatusid_code', 'resort_id',\n",
              "       'amount_spent_per_room_night_scaled'],\n",
              "      dtype='object')"
            ]
          },
          "metadata": {
            "tags": []
          },
          "execution_count": 12
        }
      ]
    },
    {
      "cell_type": "code",
      "metadata": {
        "id": "NJKCRfMx7I9p",
        "colab_type": "code",
        "outputId": "3f1404ef-9e9e-44b3-ad1f-947838455fde",
        "colab": {
          "base_uri": "https://localhost:8080/",
          "height": 210
        }
      },
      "source": [
        "#len(train_df['persontravellingid'].unique())\n",
        "train_df['roomnights'].unique()"
      ],
      "execution_count": 0,
      "outputs": [
        {
          "output_type": "execute_result",
          "data": {
            "text/plain": [
              "array([  1,   5,   4,   2,   6,   3,   8,  12,  16,   9,   7,  10,  14,\n",
              "        15,  11,  22,  18,  25,  20,  13,  21,  26,  34,  17,  24,  37,\n",
              "        27,  39,  28, -45,  19,  23,  29,  30,  36,  60,  33,  42,  31,\n",
              "        35,  32,   0,  47,  41])"
            ]
          },
          "metadata": {
            "tags": []
          },
          "execution_count": 30
        }
      ]
    },
    {
      "cell_type": "code",
      "metadata": {
        "id": "cfjvEfVS7KUw",
        "colab_type": "code",
        "colab": {}
      },
      "source": [
        ""
      ],
      "execution_count": 0,
      "outputs": []
    },
    {
      "cell_type": "markdown",
      "metadata": {
        "id": "I1GlTKht7LnC",
        "colab_type": "text"
      },
      "source": [
        "# amount_spent_per_room_night_scaled"
      ]
    },
    {
      "cell_type": "code",
      "metadata": {
        "id": "o171SuRk7ren",
        "colab_type": "code",
        "colab": {}
      },
      "source": [
        ""
      ],
      "execution_count": 0,
      "outputs": []
    }
  ]
}